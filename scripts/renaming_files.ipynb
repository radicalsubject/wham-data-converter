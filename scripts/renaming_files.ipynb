{
 "cells": [
  {
   "cell_type": "code",
   "execution_count": 39,
   "metadata": {
    "scrolled": true
   },
   "outputs": [
    {
     "name": "stdout",
     "output_type": "stream",
     "text": [
      "/home/oikura/Desktop/synchronization/WORK/IT/Yulia/Li/dist\n",
      "['cx1wbbLi_usk1d18re_dist', 'cx1wbbLi_usk1d30_dist', 'cx1wbbLi_usk1d46_dist', 'cx1wbbLi_usk1d50_dist', 'cx1wbbLi_usk1d26_dist', 'cx1wbbLi_usk1d22_dist', 'cx1wbbLi_usk4d30_dist', 'cx1wbbLi_usk1d54_dist', 'cx1wbbLi_usk1d18_dist', 'cx1wbbLi_usk1d38_dist', 'cx1wbbLi_usk1d46re_dist', 'cx1wbbLi_usk1d30re_dist', 'cx1wbbLi_usk1d30re2_dist', 'cx1wbbLi_usk4d54_dist']\n",
      "/home/oikura/Desktop/synchronization/WORK/IT/Yulia/Na/dist\n",
      "['cx1wbNaO28_usk1d32re2_dist', 'cx1wbNaO28_usk1d32re_dist', 'cx1wbNaO28_usk4d44_dist', 'cx1wbNaO28_usk1d37re_dist', 'cx1wbNaO28_usk1d47_dist', 'cx1wbNaO28_usk1d52_dist', 'cx1wbNaO28_usk1d42_dist', 'cx1wbNaO28_usk1d37_dist', 'cx1wbNaO28_usk4d44re_dist', 'cx1wbNaO28_usk4d44re2_dist', 'cx1wbNaO28_usk1d52re_dist', 'cx1wbNaO28_usk1d32_dist', 'cx1wbNaO28_usk1d44_dist', 'cx1wbNaO28_usk4d47_dist', 'cx1wbNaO28_usk1d27re2_dist', 'cx1wbNaO28_usk1d22_dist', 'cx1wbNaO28_usk1d27_dist', 'cx1wbNaO28_usk1d27re_dist']\n",
      "/home/oikura/Desktop/synchronization/WORK/IT/Yulia/K/dist\n",
      "['cx1wbK_usk1d51_dist', 'cx1wbK_usk1d46_dist', 'cx1wbK_usk1d36_dist', 'cx1wbK_usk1d56re_dist', 'cx1wbK_usk1d31_dist', 'cx1wbK_usk1d56_dist', 'cx1wbK_usk1d41_dist']\n",
      "/home/oikura/Desktop/synchronization/WORK/IT/Yulia/Cs/dist\n",
      "['cx1wbbCs_usk1d53_dist', 'cx1wbbCs_usk1d57N_dist', 'cx1wbbCs_usk8d40_dist', 'cx1wbbCs_usk4d83re_dist', 'cx1wbbCs_usk1d60_dist', 'cx1wbbCs_usk4d80_dist', 'cx1wbbCs_usk8d60_dist', 'cx1wbbCs_usk2d83_dist', 'cx1wbbCs_usk1d77re2_dist', 'cx1wbbCs_usk1d77re_dist', 'cx1wbbCs_usk1d37_dist', 'cx1wbbCs_usk1d73_dist', 'cx1wbbCs_usk1d83re_dist', 'cx1wbbCs_usk1d83re2_dist', 'cx1wbbCs_usk1d50_dist', 'cx1wbbCs_usk4d83_dist', 'cx1wbbCs_usk1d73re4_dist', 'cx1wbbCs_usk1d47_dist', 'cx1wbbCs_usk1d77_dist', 'cx1wbbCs_usk1d67N_dist', 'cx1wbbCs_usk1d73re3_dist', 'cx1wbbCs_usk1d34_dist', 'cx1wbbCs_usk1d80_dist', 'cx1wbbCs_usk1d63N_dist', 'cx1wbbCs_usk1d40_dist', 'cx1wbbCs_usk1d73re_dist', 'cx1wbbCs_usk1d43_dist', 'cx1wbbCs_usk8d34_dist', 'cx1wbbCs_usk1d70_dist', 'cx1wbbCs_usk8d50_dist', 'cx1wbbCs_usk8d70_dist', 'cx1wbbCs_usk1d73re2_dist', 'cx1wbbCs_usk2d83re_dist']\n",
      "/home/oikura/Desktop/synchronization/WORK/IT/Yulia/Rb/dist\n",
      "['cx1wbRb_usk2d59re4_dist', 'cx1wbRb_usk4d80re3_dist', 'cx1wbRb_usk2d74re2_dist', 'cx1wbRb_usk2d74_dist', 'cx1wbRb_usk2d30re2_dist', 'cx1wbRb_usk2d50re4_dist', 'cx1wbRb_usk2d30_dist', 'cx1wbRb_usk2d56re5_dist', 'cx1wbRb_usk2d68re_dist', 'cx1wbRb_usk2d38_dist', 'cx1wbRb_usk2d56re3_dist', 'cx1wbRb_usk2d50re2_dist', 'cx1wbRb_usk2d56_dist', 'cx1wbRb_usk2d44re3_dist', 'cx1wbRb_usk2d30re_dist', 'cx1wbRb_usk2d62re3_dist', 'cx1wbRb_usk2d50_dist', 'cx1wbRb_usk2d80re4_dist', 'cx1wbRb_usk2d59re2_dist', 'cx1wbRb_usk2d68_dist', 'cx1wbRb_usk2d59re_dist', 'cx1wbRb_usk2d47_dist', 'cx1wbRb_usk2d62re2_dist', 'cx1wbRb_usk2d62_dist', 'cx1wbRb_usk2d80re3_dist', 'cx1wbRb_usk2d80re2_dist', 'cx1wbRb_usk2d56re4_dist', 'cx1wbRb_usk2d47re_dist', 'cx1wbRb_usk4d80re2_dist', 'cx1wbRb_usk2d56re_dist', 'cx1wbRb_usk2d80_dist', 'cx1wbRb_usk4d80_dist', 'cx1wbRb_usk2d44re_dist', 'cx1wbRb_usk2d59_dist', 'cx1wbRb_usk2d74re_dist', 'cx1wbRb_usk2d44_dist', 'cx1wbRb_usk2d50re3_dist', 'cx1wbRb_usk2d80re_dist', 'cx1wbRb_usk2d68re2_dist', 'cx1wbRb_usk2d38re_dist', 'cx1wbRb_usk4d80re_dist', 'cx1wbRb_usk2d59re3_dist', 'cx1wbRb_usk2d38re2_dist', 'cx1wbRb_usk2d44re2_dist', 'cx1wbRb_usk2d62re_dist', 'cx1wbRb_usk2d50re_dist', 'cx1wbRb_usk2d56re2_dist']\n"
     ]
    }
   ],
   "source": [
    "import os, sys\n",
    "working_location = os.chdir(\"/home/oikura/Desktop/synchronization/WORK/IT/Yulia/scripts\")\n",
    "# listing directories\n",
    "# print (\"The dir is: %s\" %os.listdir(os.getcwd())) /home/oikura/Downloads/Yulia\n",
    "atom_list = [\"Li\", \"Na\", \"K\", \"Cs\", \"Rb\"]\n",
    "\n",
    "for atom in atom_list:\n",
    "    file_list = os.listdir(\"../%s/dist\" % (atom))\n",
    "#     print(file_list) \n",
    "\n",
    "    working_location = os.chdir(\"/home/oikura/Desktop/synchronization/WORK/IT/Yulia/%s/dist\" % (atom))\n",
    "    working_location = os.getcwd()\n",
    "    print(working_location)\n",
    "    for file_name in file_list:\n",
    "        if not file_name.find('.csv') == (-1):\n",
    "            new_name = file_name [:len(file_name)-4]\n",
    "            os.rename(file_name, new_name)\n",
    "##         os.rename(file_name, file_name + \".csv\")\n",
    "\n",
    "    file_list = os.listdir(\"./\")\n",
    "    print(file_list)\n",
    "    working_location = os.chdir(\"/home/oikura/Desktop/synchronization/WORK/IT/Yulia/scripts\")\n"
   ]
  },
  {
   "cell_type": "code",
   "execution_count": 20,
   "metadata": {},
   "outputs": [
    {
     "name": "stdout",
     "output_type": "stream",
     "text": [
      "cx1wbbLi_usk1d38_dist\n"
     ]
    }
   ],
   "source": [
    "file_name = \"cx1wbbLi_usk1d38_dist.csv\"\n",
    "\n",
    "file_name = file_name [:len(file_name)-4]\n",
    "print (file_name)"
   ]
  },
  {
   "cell_type": "code",
   "execution_count": null,
   "metadata": {},
   "outputs": [],
   "source": []
  },
  {
   "cell_type": "code",
   "execution_count": null,
   "metadata": {},
   "outputs": [],
   "source": []
  }
 ],
 "metadata": {
  "kernelspec": {
   "display_name": "Python 3",
   "language": "python",
   "name": "python3"
  },
  "language_info": {
   "codemirror_mode": {
    "name": "ipython",
    "version": 3
   },
   "file_extension": ".py",
   "mimetype": "text/x-python",
   "name": "python",
   "nbconvert_exporter": "python",
   "pygments_lexer": "ipython3",
   "version": "3.7.6"
  }
 },
 "nbformat": 4,
 "nbformat_minor": 4
}
