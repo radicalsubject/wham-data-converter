{
 "cells": [
  {
   "cell_type": "code",
   "execution_count": 4,
   "metadata": {},
   "outputs": [
    {
     "name": "stdout",
     "output_type": "stream",
     "text": [
      "/home/oikura/Desktop/synchronization/WORK/IT/Yulia/scripts\n",
      "Loading..\n",
      "cd ../Li/uiwham && ../uiwham.x -d ./ -T 300 -min 2.4 -max 9.36 -n 150 -ss 0 && cd ../../scripts\n",
      "\n",
      " Calculations for Li done. \n",
      " \n",
      "/home/oikura/Desktop/synchronization/WORK/IT/Yulia/scripts\n",
      "cd ../Na/uiwham && ../uiwham.x -d ./ -T 300 -min 3.4 -max 10.9 -n 150 -ss 0 && cd ../../scripts\n",
      "\n",
      " Calculations for Na done. \n",
      " \n",
      "/home/oikura/Desktop/synchronization/WORK/IT/Yulia/scripts\n",
      "cd ../K/uiwham && ../uiwham.x -d ./ -T 300 -min 3.4 -max 12 -n 150 -ss 0 && cd ../../scripts\n",
      "\n",
      " Calculations for K done. \n",
      " \n",
      "/home/oikura/Desktop/synchronization/WORK/IT/Yulia/scripts\n",
      "cd ../Cs/uiwham && ../uiwham.x -d ./ -T 300 -min 4.6 -max 15 -n 150 -ss 0 && cd ../../scripts\n",
      "\n",
      " Calculations for Cs done. \n",
      " \n",
      "/home/oikura/Desktop/synchronization/WORK/IT/Yulia/scripts\n",
      "cd ../Rb/uiwham && ../uiwham.x -d ./ -T 300 -min 4.4 -max 16 -n 150 -ss 0 && cd ../../scripts\n",
      "\n",
      " Calculations for Rb done. \n",
      " \n",
      "/home/oikura/Desktop/synchronization/WORK/IT/Yulia/scripts\n",
      "Finished.\n"
     ]
    }
   ],
   "source": [
    "# ../uiwham.x -d /home/oikura/Desktop/Yulia/K/uiwham -T 300 -min 4.7 -max 11 -n 150 -u kcal -ss 0\n",
    "\n",
    "import os\n",
    "\n",
    "working_location = os.getcwd()\n",
    "# os.chdir(\"../\")\n",
    "current_working_location = os.getcwd()\n",
    "print (current_working_location)\n",
    "\n",
    "\n",
    "atom_list = [\"Li\", \"Na\", \"K\", \"Cs\", \"Rb\"]\n",
    "print (\"Loading..\")\n",
    "\n",
    "for atom in atom_list:\n",
    "    if os.path.exists(os.path.dirname(os.getcwd()) + \"/%s/uiwham/\" % (atom) + \"fe_ui.xy\"):\n",
    "        os.remove(os.path.dirname(os.getcwd()) + \"/%s/uiwham/\" % (atom) + \"fe_ui.xy\")\n",
    "    if os.path.exists(os.path.dirname(os.getcwd()) + \"/%s/uiwham/\" % (atom) + \"fe_wham.xy\"):\n",
    "        os.remove(os.path.dirname(os.getcwd()) + \"/%s/uiwham/\" % (atom) + \"fe_wham.xy\")\n",
    "    if os.path.exists(os.path.dirname(os.getcwd()) + \"/%s/uiwham/\" % (atom) + \"vardadxi.xy\"):\n",
    "        os.remove(os.path.dirname(os.getcwd()) + \"/%s/uiwham/\" % (atom) + \"vardadxi.xy\")\n",
    "\n",
    "\n",
    "for atom in atom_list:\n",
    "\n",
    "##################################################################################################\n",
    "# # parameters ####################################################################################\n",
    "# 2.4 - 9.36 Li\n",
    "# 3.4 -10.9 Na\n",
    "# 3.4 - 12 K\n",
    "# 2.63 - 15 Cs\n",
    "# 4.4 - 16 Rb\n",
    "    if atom == \"Li\":\n",
    "        hist_min = 2.4\n",
    "        hist_max = 9.36\n",
    "    elif atom == \"Na\":\n",
    "        hist_min = 3.4\n",
    "        hist_max = 10.9\n",
    "    elif atom == \"K\":\n",
    "        hist_min = 3.4\n",
    "        hist_max = 12\n",
    "    elif atom == \"Cs\":\n",
    "        hist_min = 4.6\n",
    "        hist_max = 15\n",
    "    elif atom == \"Rb\":\n",
    "        hist_min = 4.4\n",
    "        hist_max = 16\n",
    "        \n",
    "    num_bins = 150\n",
    "    tol = 0.01\n",
    "    temperature = 300\n",
    "    numpad = 0\n",
    "    sources_directory = \"./\"\n",
    "###################################################################################################\n",
    "###################################################################################################\n",
    "    terminal_command = 'cd ../%s/uiwham && ../uiwham.x -d %s -T %s -min %s -max %s -n %s -ss 0 && cd ../../scripts' % (atom, sources_directory, temperature, hist_min, hist_max, num_bins)\n",
    "    print (terminal_command)\n",
    "        \n",
    "    os.system(terminal_command) # выполняем комманду в терминале запуская wham\n",
    "    print (\"\\n Calculations for %s done. \\n \" % (atom))\n",
    "    os.chdir(working_location)\n",
    "    print (os.getcwd())\n",
    "print (\"Finished.\")\n",
    "    "
   ]
  },
  {
   "cell_type": "code",
   "execution_count": 4,
   "metadata": {},
   "outputs": [
    {
     "name": "stdout",
     "output_type": "stream",
     "text": [
      "/home/oikura/Desktop/synchronization/WORK/IT/Yulia/scripts\n",
      "Loading..\n"
     ]
    }
   ],
   "source": [
    "import os\n",
    "\n",
    "working_location = os.getcwd()\n",
    "# os.chdir(\"../\")\n",
    "current_working_location = os.getcwd()\n",
    "print (current_working_location)\n",
    "\n",
    "\n",
    "atom_list = [\"Li\", \"Na\", \"K\", \"Cs\", \"Rb\"]\n",
    "print (\"Loading..\")\n",
    "for atom in atom_list:\n",
    "    if os.path.exists(os.path.dirname(os.getcwd()) + \"/%s/uiwham/\" % (atom) + \"fe_ui.xy\"):\n",
    "        os.remove(os.path.dirname(os.getcwd()) + \"/%s/uiwham/\" % (atom) + \"fe_ui.xy\")\n",
    "    if os.path.exists(os.path.dirname(os.getcwd()) + \"/%s/uiwham/\" % (atom) + \"fe_wham.xy\"):\n",
    "        os.remove(os.path.dirname(os.getcwd()) + \"/%s/uiwham/\" % (atom) + \"fe_wham.xy\")\n",
    "    if os.path.exists(os.path.dirname(os.getcwd()) + \"/%s/uiwham/\" % (atom) + \"vardadxi.xy\"):\n",
    "        os.remove(os.path.dirname(os.getcwd()) + \"/%s/uiwham/\" % (atom) + \"vardadxi.xy\")"
   ]
  },
  {
   "cell_type": "code",
   "execution_count": null,
   "metadata": {},
   "outputs": [],
   "source": []
  }
 ],
 "metadata": {
  "kernelspec": {
   "display_name": "Python 3",
   "language": "python",
   "name": "python3"
  },
  "language_info": {
   "codemirror_mode": {
    "name": "ipython",
    "version": 3
   },
   "file_extension": ".py",
   "mimetype": "text/x-python",
   "name": "python",
   "nbconvert_exporter": "python",
   "pygments_lexer": "ipython3",
   "version": "3.7.6"
  }
 },
 "nbformat": 4,
 "nbformat_minor": 4
}
