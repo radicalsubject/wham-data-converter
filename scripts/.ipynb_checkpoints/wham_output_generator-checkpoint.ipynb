{
 "cells": [
  {
   "cell_type": "code",
   "execution_count": 1,
   "metadata": {},
   "outputs": [
    {
     "ename": "FileNotFoundError",
     "evalue": "[Errno 2] No such file or directory: '/home/oikura/Desktop/Yulia/'",
     "output_type": "error",
     "traceback": [
      "\u001b[0;31m---------------------------------------------------------------------------\u001b[0m",
      "\u001b[0;31mFileNotFoundError\u001b[0m                         Traceback (most recent call last)",
      "\u001b[0;32m<ipython-input-1-e232337810ce>\u001b[0m in \u001b[0;36m<module>\u001b[0;34m\u001b[0m\n\u001b[1;32m      1\u001b[0m \u001b[0;32mimport\u001b[0m \u001b[0mos\u001b[0m\u001b[0;34m\u001b[0m\u001b[0;34m\u001b[0m\u001b[0m\n\u001b[1;32m      2\u001b[0m \u001b[0;34m\u001b[0m\u001b[0m\n\u001b[0;32m----> 3\u001b[0;31m \u001b[0mworking_location\u001b[0m \u001b[0;34m=\u001b[0m \u001b[0mos\u001b[0m\u001b[0;34m.\u001b[0m\u001b[0mchdir\u001b[0m\u001b[0;34m(\u001b[0m\u001b[0;34m\"/home/oikura/Desktop/Yulia/\"\u001b[0m\u001b[0;34m)\u001b[0m \u001b[0;31m#перемещаемся в папку\u001b[0m\u001b[0;34m\u001b[0m\u001b[0;34m\u001b[0m\u001b[0m\n\u001b[0m\u001b[1;32m      4\u001b[0m \u001b[0mworking_location\u001b[0m \u001b[0;34m=\u001b[0m \u001b[0mos\u001b[0m\u001b[0;34m.\u001b[0m\u001b[0mgetcwd\u001b[0m\u001b[0;34m(\u001b[0m\u001b[0;34m)\u001b[0m\u001b[0;34m\u001b[0m\u001b[0;34m\u001b[0m\u001b[0m\n\u001b[1;32m      5\u001b[0m \u001b[0mprint\u001b[0m\u001b[0;34m(\u001b[0m\u001b[0mworking_location\u001b[0m\u001b[0;34m)\u001b[0m\u001b[0;34m\u001b[0m\u001b[0;34m\u001b[0m\u001b[0m\n",
      "\u001b[0;31mFileNotFoundError\u001b[0m: [Errno 2] No such file or directory: '/home/oikura/Desktop/Yulia/'"
     ]
    }
   ],
   "source": [
    "import os\n",
    "\n",
    "working_location = os.chdir(\"/home/oikura/synchronization/IT/Yulia/\") #перемещаемся в папку\n",
    "working_location = os.getcwd()\n",
    "print(working_location)\n",
    "\n",
    "atom_list = [\"Li\", \"Na\", \"K\", \"Cs\", \"Rb\"]\n",
    "\n",
    "for atom in atom_list:\n",
    "\n",
    "##################################################################################################\n",
    "# parameters #####################################################################################\n",
    "\n",
    "    hist_min = 1\n",
    "    hist_max = 10\n",
    "    num_bins = 150\n",
    "    tol = 0.01\n",
    "    temperature = 300\n",
    "    numpad = 0\n",
    "    metadatafile = \"/home/oikura/synchronization/IT/Yulia/%s/dist_out/metadata_%s_dist_out\" % (atom, atom)\n",
    "    freefile = \"/home/oikura/synchronization/IT/Yulia/%s/dist_out/%s.out\" % (atom, atom)\n",
    "###################################################################################################\n",
    "###################################################################################################\n",
    "\n",
    "\n",
    "    terminal_command = 'cd ./wham/wham && ./wham %s %s %s %s %s %s %s %s' % (hist_min, hist_max, num_bins, tol, temperature, numpad, metadatafile, freefile)\n",
    "    print (terminal_command)\n",
    "\n",
    "\n",
    "    #чистим нычки: если в вашей фазе хода вы вытянули папку с файлом метаданных предыдущей версии, то удаляем ёё.\n",
    "    if os.path.exists(os.getcwd() + \"/%s/\" % (atom) + \"%s.out\"):\n",
    "        os.remove(os.getcwd() + \"/%s/\" % (atom) + \"%s.out\")\n",
    "\n",
    "    print(os.popen(terminal_command).read()) # выполняем комманду в терминале запуская wham\n",
    "\n",
    "    print (\"ฅ(^・ﻌ・^)ฅ - miau, i love you!\")"
   ]
  },
  {
   "cell_type": "code",
   "execution_count": null,
   "metadata": {},
   "outputs": [],
   "source": []
  },
  {
   "cell_type": "code",
   "execution_count": null,
   "metadata": {},
   "outputs": [],
   "source": []
  }
 ],
 "metadata": {
  "kernelspec": {
   "display_name": "Python 3",
   "language": "python",
   "name": "python3"
  },
  "language_info": {
   "codemirror_mode": {
    "name": "ipython",
    "version": 3
   },
   "file_extension": ".py",
   "mimetype": "text/x-python",
   "name": "python",
   "nbconvert_exporter": "python",
   "pygments_lexer": "ipython3",
   "version": "3.7.6"
  }
 },
 "nbformat": 4,
 "nbformat_minor": 4
}
