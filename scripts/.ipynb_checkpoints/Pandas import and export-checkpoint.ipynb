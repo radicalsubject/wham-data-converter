{
 "cells": [
  {
   "cell_type": "code",
   "execution_count": 60,
   "metadata": {
    "scrolled": true
   },
   "outputs": [
    {
     "name": "stdout",
     "output_type": "stream",
     "text": [
      "gunzip -kf ../Li/dist-20200515T160922Z-001.zip.gz && unzip ../Li/dist-20200515T160922Z-001.zip -d ../Li\n",
      "Archive:  ../Li/dist-20200515T160922Z-001.zip\n",
      "\n",
      "/home/oikura/synchronization/IT/Yulia/Li/dist  converting......\n",
      "\n",
      " Done! \n",
      "\n",
      "/home/oikura/synchronization/IT/Yulia/Na/dist  converting......\n",
      "\n",
      " Done! \n",
      "\n",
      "/home/oikura/synchronization/IT/Yulia/K/dist  converting......\n",
      "\n",
      " Done! \n",
      "\n",
      "/home/oikura/synchronization/IT/Yulia/Cs/dist  converting......\n",
      "/home/oikura/synchronization/IT/Yulia/Cs/k8  converting k8......\n",
      "\n",
      " Done! \n",
      "\n",
      "/home/oikura/synchronization/IT/Yulia/Rb/dist  converting......\n",
      "\n",
      " Done! \n",
      "\n",
      "Finished convertation, see files in ..%s/dist_out directories.\n"
     ]
    }
   ],
   "source": [
    "import os, sys\n",
    "# Load the Pandas libraries with alias 'pd' \n",
    "import pandas as pd\n",
    "import shutil\n",
    "\n",
    "working_location = os.chdir(\"/home/oikura/synchronization/IT/Yulia/scripts\")\n",
    "\n",
    "atom_list = [\"Li\", \"Na\", \"K\", \"Cs\", \"Rb\"]\n",
    "\n",
    "for atom in atom_list:\n",
    "######### big block for unpacking of archived data #####################################################\n",
    "########################################################################################################\n",
    "########################################################################################################\n",
    "    if not os.path.exists(\"../%s/dist\" % (atom)):\n",
    "        zipped_files = os.listdir(\"../%s/\" % (atom))\n",
    "        for zipped_file in zipped_files:\n",
    "            if zipped_file.find('.gz') != (-1):\n",
    "                gunzip_command = \"gunzip -kf ../%s/%s\" % (atom, zipped_file) # forced overwrite key\n",
    "                unzip_command = \"unzip ../%s/%s -d ../%s\" % (atom, zipped_file [:len(zipped_file)-3], atom)\n",
    "                unpack_command = gunzip_command + \" && \" + unzip_command\n",
    "                print (unpack_command)\n",
    "                os.system (unpack_command)\n",
    "            else:\n",
    "                unzip_command = \"unzip ../%s/%s -d ../%s\" % (atom, zipped_file, atom)\n",
    "                os.system (unzip_command)\n",
    "    else:\n",
    "        shutil.rmtree(\"../%s/dist\" % (atom))\n",
    "        zipped_files = os.listdir(\"../%s/\" % (atom))\n",
    "        for zipped_file in zipped_files:\n",
    "            if zipped_file.find('.gz') != (-1):\n",
    "                gunzip_command = \"gunzip -kf ../%s/%s\" % (atom, zipped_file) # forced overwrite key\n",
    "                unzip_command = \"unzip ../%s/%s -d ../%s\" % (atom, zipped_file [:len(zipped_file)-3], atom)\n",
    "                unpack_command = gunzip_command + \" && \" + unzip_command\n",
    "                print (unpack_command)\n",
    "                print(os.popen(unpack_command).read())\n",
    "            else:\n",
    "                unzip_command = \"unzip ../%s/%s -d ../%s\" % (atom, zipped_file, atom)\n",
    "                os.system (unzip_command)\n",
    "####################################################################################################### \n",
    "####################################################################################################### \n",
    "####################################################################################################### \n",
    "    file_list = os.listdir(\"../%s/dist\" % (atom))\n",
    "    #file_list = os.listdir(\"/home/oikura/Downloads/Yulia/Cs/k8/\")\n",
    "    #print(file_list) \n",
    "    current_working_location = os.chdir(\"../%s/dist\" % (atom))\n",
    "    current_working_location = os.getcwd()\n",
    "    print(current_working_location, \" converting......\")\n",
    "    if not os.path.exists(\"../dist_out/\"):\n",
    "        os.mkdir(\"../dist_out/\")\n",
    "    for file_name in file_list:\n",
    "        # Control delimiters, rows, column names with read_csv \n",
    "        # data = pd.read_csv(\"/home/oikura/Downloads/Yulia/Cs/k8/\" + file_name, sep='\\s+', header=None) \n",
    "        data = pd.read_csv(current_working_location + \"/\" + file_name, sep='\\s+', header=None) \n",
    "        \n",
    "        del data[5], data[4], data[3], data[2] #удаление столбцов с нулями\n",
    "        \n",
    "        # print (data.head())\n",
    "        data[1] = data[1].apply(lambda x: x*0.529177) #conversion of bohr radii to angstrom\n",
    "        \n",
    "        # formatting data to float\n",
    "        data[1] = data[1].map('{:,.5f}'.format)\n",
    "        data[0] = data[0].map('{:.8f}'.format)\n",
    "\n",
    "        ###### конвертировать формат имени выходных файлов если необходимо:\n",
    "        # l = len (file_name)-4 #определение длина файла в количестве символов минус расширение файла\n",
    "        # file_name = file_name[:l] #укорачивание имени файла на .csv\n",
    "\n",
    "        data.to_csv(\"../dist_out/\" + file_name, sep=\"\\t\", header=None, index=False) #запись датафрейма в выходные файлы без хедера с разделителями-табуляцией\n",
    "    \n",
    "    #specially for Cs\n",
    "    if atom == \"Cs\":\n",
    "        if not os.path.exists(\"../k8_out/\"):\n",
    "            os.mkdir(\"../k8_out/\")\n",
    "        file_list = os.listdir(\"../k8\")\n",
    "        current_working_location = os.chdir(\"/home/oikura/synchronization/IT/Yulia/%s/k8\" % (atom))\n",
    "        current_working_location = os.getcwd()\n",
    "        print(current_working_location, \" converting k8......\")\n",
    "        for file_name in file_list:\n",
    "        # Control delimiters, rows, column names with read_csv \n",
    "        # data = pd.read_csv(\"/home/oikura/Downloads/Yulia/Cs/k8/\" + file_name, sep='\\s+', header=None) \n",
    "            data = pd.read_csv(current_working_location + \"/\" + file_name, sep='\\s+', header=None) \n",
    "\n",
    "            del data[5], data[4], data[3], data[2] #удаление столбцов с нулями\n",
    "\n",
    "            # print (data.head())\n",
    "            data[1] = data[1].apply(lambda x: x*0.529177) #conversion of bohr radii to angstrom\n",
    "\n",
    "            # formatting data to float\n",
    "            data[1] = data[1].map('{:,.5f}'.format)\n",
    "            data[0] = data[0].map('{:.8f}'.format)\n",
    "\n",
    "                ###### конвертировать формат имени выходных файлов если необходимо:\n",
    "                # l = len (file_name)-4 #определение длина файла в количестве символов минус расширение файла\n",
    "                # file_name = file_name[:l] #укорачивание имени файла на .csv\n",
    "\n",
    "            data.to_csv(\"../k8_out/\" + file_name, sep=\"\\t\", header=None, index=False) #запись датафрейма в выходные файлы без хедера с разделителями-табуляцией\n",
    "\n",
    "    \n",
    "    # возвращаем программу обратно в исходную директорию    \n",
    "    current_working_location = os.chdir(\"/home/oikura/synchronization/IT/Yulia/scripts\")\n",
    "    print (\"\\n Done! \\n\")\n",
    "print (\"Finished convertation, see files in ..%s/dist_out directories.\")"
   ]
  },
  {
   "cell_type": "code",
   "execution_count": 106,
   "metadata": {},
   "outputs": [
    {
     "name": "stdout",
     "output_type": "stream",
     "text": [
      "cx1wbbLi_usk1d38_dist\n"
     ]
    }
   ],
   "source": [
    "file_name = \"cx1wbbLi_usk1d38_dist.csv\"\n",
    "l = len (file_name)-4\n",
    "file_name = file_name[:l] \n",
    "print (\"{0:s}\".format(file_name))"
   ]
  },
  {
   "cell_type": "code",
   "execution_count": 16,
   "metadata": {},
   "outputs": [
    {
     "name": "stdout",
     "output_type": "stream",
     "text": [
      "2\n"
     ]
    }
   ],
   "source": [
    "x = [2, 3, 4, 5, \"rucwhiuhw\"]\n",
    "len(x)\n",
    "print(x[0])"
   ]
  },
  {
   "cell_type": "code",
   "execution_count": 68,
   "metadata": {},
   "outputs": [
    {
     "name": "stdout",
     "output_type": "stream",
     "text": [
      "Archive:  ../Li/dist-20200515T160922Z-001.zip\n",
      "\n",
      "unzip ../Li/dist-20200515T160922Z-001.zip\n"
     ]
    }
   ],
   "source": [
    "        if not os.path.exists(\"../%s/dist\" % (atom)):\n",
    "            zipped_files = os.listdir(\"../%s/\" % (atom))\n",
    "            for zipped_file in zipped_files:\n",
    "                if zipped_file.find('zip.gz') == (-1):   \n",
    "                    terminal_command = \"unzip ../%s/%s\" % (atom, zipped_file)\n",
    "                    print(os.popen(terminal_command).read())\n",
    "                    print (terminal_command)\n"
   ]
  },
  {
   "cell_type": "code",
   "execution_count": 20,
   "metadata": {},
   "outputs": [
    {
     "name": "stdout",
     "output_type": "stream",
     "text": [
      "Archive:  ../Li/dist-20200515T160922Z-001.zip\n",
      "  inflating: ../Li/dist/cx1wbbLi_usk1d46re_dist  \n",
      "  inflating: ../Li/dist/cx1wbbLi_usk1d22_dist  \n",
      "  inflating: ../Li/dist/cx1wbbLi_usk1d26_dist  \n",
      "  inflating: ../Li/dist/cx1wbbLi_usk1d54_dist  \n",
      "  inflating: ../Li/dist/cx1wbbLi_usk1d18_dist  \n",
      "  inflating: ../Li/dist/cx1wbbLi_usk1d46_dist  \n",
      "  inflating: ../Li/dist/cx1wbbLi_usk4d30_dist  \n",
      "  inflating: ../Li/dist/cx1wbbLi_usk1d38_dist  \n",
      "  inflating: ../Li/dist/cx1wbbLi_usk4d54_dist  \n",
      "  inflating: ../Li/dist/cx1wbbLi_usk1d50_dist  \n",
      "  inflating: ../Li/dist/cx1wbbLi_usk1d30re_dist  \n",
      "  inflating: ../Li/dist/cx1wbbLi_usk1d18re_dist  \n",
      "  inflating: ../Li/dist/cx1wbbLi_usk1d30re2_dist  \n",
      "  inflating: ../Li/dist/cx1wbbLi_usk1d30_dist  \n",
      "\n",
      "\n"
     ]
    }
   ],
   "source": [
    "import os, sys\n",
    "current_working_location = os.chdir(\"/home/oikura/synchronization/IT/Yulia/scripts\")\n",
    "# os.system(\"unzip ./Li/dist-20200515T160922Z-001.zip\")\n",
    "print(os.popen(\"unzip ../Li/dist-20200515T160922Z-001.zip -d ../Li\").read())\n",
    "print(os.popen(\"cd ./Li && ls\").read())\n"
   ]
  },
  {
   "cell_type": "code",
   "execution_count": 39,
   "metadata": {},
   "outputs": [
    {
     "name": "stdout",
     "output_type": "stream",
     "text": [
      "gunzip -kf ../Li/dist-20200515T160922Z-001.zip.gz && unzip ../Li/dist-20200515T160922Z-001.zip -d ../Li\n",
      "Archive:  ../Li/dist-20200515T160922Z-001.zip\n",
      "  inflating: ../Li/dist/cx1wbbLi_usk1d46re_dist  \n",
      "  inflating: ../Li/dist/cx1wbbLi_usk1d22_dist  \n",
      "  inflating: ../Li/dist/cx1wbbLi_usk1d26_dist  \n",
      "  inflating: ../Li/dist/cx1wbbLi_usk1d54_dist  \n",
      "  inflating: ../Li/dist/cx1wbbLi_usk1d18_dist  \n",
      "  inflating: ../Li/dist/cx1wbbLi_usk1d46_dist  \n",
      "  inflating: ../Li/dist/cx1wbbLi_usk4d30_dist  \n",
      "  inflating: ../Li/dist/cx1wbbLi_usk1d38_dist  \n",
      "  inflating: ../Li/dist/cx1wbbLi_usk4d54_dist  \n",
      "  inflating: ../Li/dist/cx1wbbLi_usk1d50_dist  \n",
      "  inflating: ../Li/dist/cx1wbbLi_usk1d30re_dist  \n",
      "  inflating: ../Li/dist/cx1wbbLi_usk1d18re_dist  \n",
      "  inflating: ../Li/dist/cx1wbbLi_usk1d30re2_dist  \n",
      "  inflating: ../Li/dist/cx1wbbLi_usk1d30_dist  \n",
      "\n"
     ]
    }
   ],
   "source": [
    "import os, sys\n",
    "current_working_location = os.chdir(\"/home/oikura/synchronization/IT/Yulia/scripts\")\n",
    "zipped_file = \"dist-20200515T160922Z-001.zip.gz\"\n",
    "atom = \"Li\"\n",
    "\n",
    "gunzip_command = \"gunzip -kf ../%s/%s\" % (atom, zipped_file) # forced overwrite key\n",
    "unzip_command = \"unzip ../%s/%s -d ../%s\" % (atom, zipped_file [:len(zipped_file)-3], atom)\n",
    "unpack_command = gunzip_command + \" && \" + unzip_command\n",
    "print (unpack_command)\n",
    "print(os.popen(unpack_command).read())\n"
   ]
  },
  {
   "cell_type": "code",
   "execution_count": null,
   "metadata": {},
   "outputs": [],
   "source": []
  },
  {
   "cell_type": "code",
   "execution_count": null,
   "metadata": {},
   "outputs": [],
   "source": []
  }
 ],
 "metadata": {
  "kernelspec": {
   "display_name": "Python 3",
   "language": "python",
   "name": "python3"
  },
  "language_info": {
   "codemirror_mode": {
    "name": "ipython",
    "version": 3
   },
   "file_extension": ".py",
   "mimetype": "text/x-python",
   "name": "python",
   "nbconvert_exporter": "python",
   "pygments_lexer": "ipython3",
   "version": "3.7.6"
  }
 },
 "nbformat": 4,
 "nbformat_minor": 4
}
