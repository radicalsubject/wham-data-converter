{
 "cells": [
  {
   "cell_type": "code",
   "execution_count": 4,
   "metadata": {},
   "outputs": [
    {
     "name": "stdout",
     "output_type": "stream",
     "text": [
      "/home/oikura/Desktop/synchronization/WORK/IT/Yulia/scripts\n",
      "/home/oikura/Desktop/synchronization/WORK/IT/Yulia/Li/dist  converting......\n",
      "/home/oikura/Desktop/synchronization/WORK/IT/Yulia/Na/dist  converting......\n",
      "/home/oikura/Desktop/synchronization/WORK/IT/Yulia/K/dist  converting......\n",
      "/home/oikura/Desktop/synchronization/WORK/IT/Yulia/Cs/dist  converting......\n",
      "/home/oikura/Desktop/synchronization/WORK/IT/Yulia/Rb/dist  converting......\n",
      "Done.\n"
     ]
    }
   ],
   "source": [
    "import os, sys\n",
    "import pandas as pd\n",
    "import shutil\n",
    "\n",
    "working_location = os.chdir(\"/home/oikura/Desktop/Yulia/scripts/\")\n",
    "\n",
    "working_location = os.getcwd()\n",
    "current_working_location = os.chdir(working_location)\n",
    "print (working_location)\n",
    "\n",
    "atom_list = [\"Cs\"]\n",
    "\n",
    "for atom in atom_list:\n",
    "    \n",
    "    # создаем массивы с данными\n",
    "    file_path = []\n",
    "    k = []\n",
    "    loc_win_min = []\n",
    "\n",
    "    \n",
    "    if not os.path.exists(\"../%s/uiwham\" % (atom)):\n",
    "        os.mkdir(\"../%s/uiwham\" % (atom))\n",
    "    else:\n",
    "        shutil.rmtree(\"../%s/uiwham\" % (atom))\n",
    "        os.mkdir(\"../%s/uiwham\" % (atom))\n",
    "    source_file_list = os.listdir(\"../%s/dist\" % (atom))\n",
    "    \n",
    "    current_working_location = os.chdir(\"../%s/dist\" % (atom))\n",
    "    current_working_location = os.getcwd()\n",
    "    print(current_working_location, \" converting......\")\n",
    "    counter = 0\n",
    "    for file_name in source_file_list:\n",
    "        data = pd.read_csv(current_working_location + \"/\" + file_name, sep='\\s+', header=None)\n",
    "#         print (file_name)\n",
    "           \n",
    "        end = file_name.find('_dist')\n",
    "        start = file_name.find('usk') + 3\n",
    "        s = file_name[start:end] # обрезаем ненужное в имени файла\n",
    "        s = s[:4]\n",
    "#         print (file_name)\n",
    "#         print (s)\n",
    "        k.append(\"{:.9f}\".format(int(s.split(\"d\") [0])*2*0.529177*0.529177/627.5094)) # набиваем массив константами жесткости приложенного потенциала (k)\n",
    "        loc_win_min.append(\"{:.9f}\".format(int(s.split(\"d\") [1])*(0.1)/0.529177)) # набиваем массив положение минимума приложенного квадратичного потенциала (x 0 )\n",
    "\n",
    "#         print (file_path, k, loc_win_min)    \n",
    "\n",
    "        new_data = pd.DataFrame({\"RC_Value\": data [1]})\n",
    "        new_data['force-constant'] = k [counter]\n",
    "        new_data['RC-reference-value'] = loc_win_min[counter]\n",
    "        new_data=new_data.astype(float)\n",
    "\n",
    "#         print (new_data)\n",
    "        os.chdir(working_location)\n",
    "        new_data.to_csv(\"../%s/uiwham/\" % (atom) + file_name, sep=\"\\t\", header = None, index=False)\n",
    "        counter = counter + 1\n",
    "        \n",
    "print (\"Done.\")"
   ]
  },
  {
   "cell_type": "code",
   "execution_count": null,
   "metadata": {},
   "outputs": [],
   "source": []
  },
  {
   "cell_type": "code",
   "execution_count": null,
   "metadata": {},
   "outputs": [],
   "source": []
  }
 ],
 "metadata": {
  "kernelspec": {
   "display_name": "Python 3",
   "language": "python",
   "name": "python3"
  },
  "language_info": {
   "codemirror_mode": {
    "name": "ipython",
    "version": 3
   },
   "file_extension": ".py",
   "mimetype": "text/x-python",
   "name": "python",
   "nbconvert_exporter": "python",
   "pygments_lexer": "ipython3",
   "version": "3.7.6"
  }
 },
 "nbformat": 4,
 "nbformat_minor": 4
}
