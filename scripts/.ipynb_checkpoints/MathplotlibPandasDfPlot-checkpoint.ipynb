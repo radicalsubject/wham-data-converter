{
 "cells": [
  {
   "cell_type": "code",
   "execution_count": 6,
   "metadata": {
    "scrolled": false
   },
   "outputs": [
    {
     "ename": "IndentationError",
     "evalue": "unindent does not match any outer indentation level (<tokenize>, line 67)",
     "output_type": "error",
     "traceback": [
      "\u001b[0;36m  File \u001b[0;32m\"<tokenize>\"\u001b[0;36m, line \u001b[0;32m67\u001b[0m\n\u001b[0;31m    plt.show()\u001b[0m\n\u001b[0m    ^\u001b[0m\n\u001b[0;31mIndentationError\u001b[0m\u001b[0;31m:\u001b[0m unindent does not match any outer indentation level\n"
     ]
    }
   ],
   "source": [
    "import os, sys\n",
    "#Load the Pandas libraries with alias 'pd' \n",
    "import pandas as pd\n",
    "import matplotlib.pyplot as plt\n",
    "# plt.style.use('seaborn-whitegrid')\n",
    "import numpy as np\n",
    "import statsmodels.formula.api as smf\n",
    "from scipy.interpolate import make_interp_spline, BSpline\n",
    "\n",
    "###### какой атом анализируем?###############################################################################\n",
    "atom_list = [\"Li\", \"Na\", \"K\", \"Cs\", \"Rb\"]\n",
    "\n",
    "for atom in atom_list:\n",
    "######################################################################################################################\n",
    "\n",
    "    working_location = os.chdir(\"/home/oikura/synchronization/IT/Yulia/%s/dist_out\" % (atom)) # перемещение процесса в локацию не нужно и дает ошибку когда работаешь с относительными путями\n",
    "    working_location = os.getcwd()\n",
    "    print(working_location)\n",
    "\n",
    "    #read wham output data\n",
    "    data = pd.read_csv(working_location + \"/%s.out\" % (atom), sep='\\s+') # без header=None так как хочу обращаться к столбцам по легенде\n",
    "\n",
    "    #чистим данные от NaN\n",
    "    data = data.fillna(0) #заполняем нулями отсутствующие данные NaN\n",
    "    indexNaN = data['Prob'] == 0 #получаем датафрейм в котором в столбце Prob нули\n",
    "    index_drop_NaN = data[indexNaN].index #получаем индексы строк, которые надо дропнуть\n",
    "    data.drop(index_drop_NaN, inplace=True) #дропаем\n",
    "    # print (data) #просмотр полученного фрейма\n",
    "\n",
    "    graph_df = pd.DataFrame({\"x, Coor\": data [\"#Coor\"], 'y, Free': data [\"Free\"]}) #creating array for plotting\n",
    "    # print (graph_df)\n",
    "\n",
    "    plt.figure(figsize = (40,40))\n",
    "    graph_df=graph_df.astype(float)\n",
    "\n",
    "#     # вытаскиваем из датафрейма листы с переменными которые будем фиттить\n",
    "#     x = graph_df [\"x, Coor\"].to_list()\n",
    "#     y = graph_df [\"y, Free\"].to_list()\n",
    "#     print (x, y)\n",
    "#     fitted_data = pd.DataFrame(columns=['y', 'x'])\n",
    "#     fitted_data['x'] = x\n",
    "#     fitted_data['y'] = y\n",
    "\n",
    "#     # 300 represents number of points to make between T.min and T.max\n",
    "#     xnew = np.linspace(np.array(x).min(), np.array(x).max(), 100) \n",
    "#     # сглаживание кривой\n",
    "#     spl = make_interp_spline(x, y, k=7)  # type: BSpline\n",
    "#     y_smooth = spl(xnew)\n",
    "#     plt.scatter(x, y, color='red')\n",
    "#     plt.plot(xnew, y_smooth)\n",
    "#     plt.show()\n",
    "\n",
    "    # # регрессия\n",
    "    # degree = 100\n",
    "    # weights = np.polyfit(x, y, degree)\n",
    "    # model = np.poly1d(weights)\n",
    "    # results = smf.ols(formula='y ~ model(x)', data=fitted_data).fit()\n",
    "    # print(results.summary()) # результаты регрессии\n",
    "    # plt.scatter(x, y)\n",
    "    # myline = np.linspace(2.5, 5.3, 5)\n",
    "    # plt.plot(myline, mymodel(myline))\n",
    "\n",
    "    graph_df.plot(kind='scatter',x='x, Coor',y='y, Free', color='red')\n",
    "\n",
    "    # показать график\n",
    "   \n",
    "plt.show()\n"
   ]
  },
  {
   "cell_type": "code",
   "execution_count": null,
   "metadata": {},
   "outputs": [],
   "source": []
  },
  {
   "cell_type": "code",
   "execution_count": null,
   "metadata": {},
   "outputs": [],
   "source": []
  }
 ],
 "metadata": {
  "kernelspec": {
   "display_name": "Python 3",
   "language": "python",
   "name": "python3"
  },
  "language_info": {
   "codemirror_mode": {
    "name": "ipython",
    "version": 3
   },
   "file_extension": ".py",
   "mimetype": "text/x-python",
   "name": "python",
   "nbconvert_exporter": "python",
   "pygments_lexer": "ipython3",
   "version": "3.7.6"
  }
 },
 "nbformat": 4,
 "nbformat_minor": 4
}
