{
 "cells": [
  {
   "cell_type": "code",
   "execution_count": 8,
   "metadata": {},
   "outputs": [
    {
     "ename": "NameError",
     "evalue": "name 'interpolation' is not defined",
     "output_type": "error",
     "traceback": [
      "\u001b[0;31m---------------------------------------------------------------------------\u001b[0m",
      "\u001b[0;31mNameError\u001b[0m                                 Traceback (most recent call last)",
      "\u001b[0;32m<ipython-input-8-be93d7ce38d2>\u001b[0m in \u001b[0;36m<module>\u001b[0;34m\u001b[0m\n\u001b[1;32m      7\u001b[0m \u001b[0;34m\u001b[0m\u001b[0m\n\u001b[1;32m      8\u001b[0m \u001b[0mx_plot\u001b[0m \u001b[0;34m=\u001b[0m \u001b[0mnp\u001b[0m\u001b[0;34m.\u001b[0m\u001b[0mlinspace\u001b[0m \u001b[0;34m(\u001b[0m\u001b[0;36m0.01\u001b[0m\u001b[0;34m,\u001b[0m \u001b[0;36m3.99\u001b[0m\u001b[0;34m,\u001b[0m \u001b[0;36m250\u001b[0m\u001b[0;34m)\u001b[0m\u001b[0;34m\u001b[0m\u001b[0;34m\u001b[0m\u001b[0m\n\u001b[0;32m----> 9\u001b[0;31m \u001b[0my_plot\u001b[0m \u001b[0;34m=\u001b[0m \u001b[0minterpolation\u001b[0m\u001b[0;34m(\u001b[0m\u001b[0mx_plot\u001b[0m\u001b[0;34m,\u001b[0m \u001b[0mxi\u001b[0m\u001b[0;34m,\u001b[0m \u001b[0myi\u001b[0m\u001b[0;34m)\u001b[0m\u001b[0;34m\u001b[0m\u001b[0;34m\u001b[0m\u001b[0m\n\u001b[0m\u001b[1;32m     10\u001b[0m \u001b[0my0\u001b[0m \u001b[0;34m=\u001b[0m \u001b[0mscipy\u001b[0m\u001b[0;34m.\u001b[0m\u001b[0minterpolate\u001b[0m\u001b[0;34m.\u001b[0m\u001b[0minterp1d\u001b[0m\u001b[0;34m(\u001b[0m\u001b[0mxi\u001b[0m\u001b[0;34m,\u001b[0m\u001b[0myi\u001b[0m\u001b[0;34m,\u001b[0m \u001b[0mkind\u001b[0m \u001b[0;34m=\u001b[0m \u001b[0;34m'nearest'\u001b[0m\u001b[0;34m)\u001b[0m\u001b[0;34m\u001b[0m\u001b[0;34m\u001b[0m\u001b[0m\n\u001b[1;32m     11\u001b[0m \u001b[0my1\u001b[0m \u001b[0;34m=\u001b[0m \u001b[0mscipy\u001b[0m\u001b[0;34m.\u001b[0m\u001b[0minterpolate\u001b[0m\u001b[0;34m.\u001b[0m\u001b[0minterp1d\u001b[0m\u001b[0;34m(\u001b[0m\u001b[0mxi\u001b[0m\u001b[0;34m,\u001b[0m\u001b[0myi\u001b[0m\u001b[0;34m,\u001b[0m \u001b[0mkind\u001b[0m \u001b[0;34m=\u001b[0m \u001b[0;34m'linear'\u001b[0m\u001b[0;34m)\u001b[0m\u001b[0;34m\u001b[0m\u001b[0;34m\u001b[0m\u001b[0m\n",
      "\u001b[0;31mNameError\u001b[0m: name 'interpolation' is not defined"
     ]
    }
   ],
   "source": [
    "import scipy.interpolate\n",
    "import numpy as np\n",
    "import matplotlib.pyplot as plt\n",
    "\n",
    "xi = np.array([0., 0.5, 1., 1.5, 2., 2.5, 3., 3.5, 4.])\n",
    "yi = np.array([1.948, 2.008, 1.899, 1.952, 1.266, 1.161, 0.568, 0.763, 0.012])\n",
    "\n",
    "x_plot = np.linspace (0.01, 3.99, 250)\n",
    "# y_plot = interpolation(x_plot, xi, yi)\n",
    "y0 = scipy.interpolate.interp1d(xi,yi, kind = 'nearest')\n",
    "y1 = scipy.interpolate.interp1d(xi,yi, kind = 'linear')\n",
    "y2 = scipy.interpolate.interp1d(xi,yi, kind = 'quadratic')\n",
    "y3 = scipy.interpolate.interp1d(xi,yi, kind = 'cubic')\n",
    "\n",
    "cs1 = scipy.interpolate.CubicSpline(xi, yi, bc_type = 'not-a-knot')\n",
    "cs2 = scipy.interpolate.CubicSpline(xi, yi, bc_type = 'natural')\n",
    "cs3 = scipy.interpolate.CubicSpline(xi, yi, bc_type = 'clamped')\n",
    "\n",
    "plt.figure(figsize = (6,6))\n",
    "plt.tick_params (direction ='in')\n",
    "\n",
    "plt.plot(xi, yi, \"*\", color = 'red',label = 'узлы интерполяции')\n",
    "plt.plot(x_plot, y0(x_plot), linewidth = 0.8, label = 'nearest')\n",
    "plt.plot(x_plot, y1(x_plot), linewidth = 0.8, label = 'linear')\n",
    "plt.plot(x_plot, y2(x_plot), linewidth = 0.8, label = 'quadratic')\n",
    "plt.plot(x_plot, y3(x_plot), linewidth = 0.8, label = 'cubic')\n",
    "plt.plot(x_plot, cs1(x_plot), linestyle = '--', linewidth =1.5, label ='not-a-knot')\n",
    "plt.plot(x_plot, cs2(x_plot),  linewidth =1.5, label ='natural')\n",
    "plt.plot(x_plot, cs3(x_plot),  linewidth =1.5, label ='clamped')\n",
    "\n",
    "\n",
    "plt.legend()\n",
    "plt.xlabel('x')\n",
    "plt.grid(True)\n",
    "plt.show()"
   ]
  },
  {
   "cell_type": "code",
   "execution_count": 15,
   "metadata": {},
   "outputs": [
    {
     "data": {
      "image/png": "[encoded data removed]",
      "text/plain": [
       "<Figure size 432x288 with 1 Axes>"
      ]
     },
     "metadata": {
      "needs_background": "light"
     },
     "output_type": "display_data"
    }
   ],
   "source": [
    "import scipy.interpolate\n",
    "import numpy as np\n",
    "import math\n",
    "import matplotlib.pyplot as plt\n",
    "\n",
    "xi = np.array([0., 2., 4., 6., 8., 10.])*np.pi/5.\n",
    "yi = np.array([0., 1., 0., -1., 0., 1.])\n",
    "\n",
    "x_plot = np.linspace (0.01, 2*np.pi-0.01, 250)\n",
    "y = scipy.interpolate.CubicSpline(xi, yi, bc_type = 'natural')\n",
    "plt.plot(xi, yi, \"*\", color = 'red',label = 'узлы интерполяции')\n",
    "plt.plot(x_plot, y(x_plot), linewidth = 0.8, label = 'quadratic')\n",
    "\n",
    "\n",
    "plt.legend()\n",
    "plt.xlabel('x')\n",
    "plt.grid(True)\n",
    "plt.show()"
   ]
  },
  {
   "cell_type": "code",
   "execution_count": 6,
   "metadata": {},
   "outputs": [],
   "source": [
    "def MyCubicSpline(xi, yi):\n",
    "    xi = np.array(xi)\n",
    "    yi = np.array(yi)\n",
    "    n = len(xi)\n",
    "    dx = np.diff(xi)\n",
    "    dy = np.diff(yi)\n",
    "    rs = np.zeros(n)\n",
    "    rs[1:-1] = 3*(dy[1:]/dx[1:] - dy[:-1]/dx[:-1])\n",
    "    \n",
    "    matrix = np.zeros((n, n))\n",
    "    for i in range (1, n-1):\n",
    "        matrix[i, i] = 2*(dx[i-1]+dx[i]) #diagonal\n",
    "    for i in range (1, n-1):\n",
    "        matrix[i, i+1] = dx[i] # upper diagonal\n",
    "    for i in range (0, n-2):\n",
    "        matrix[i+1, i] = dx[i] #downer diagonal\n",
    "    matrix[0,0] = matrix[-1,-1] = 1 #natural\n",
    "    c = np.linalg.solve(matrix, rs)\n",
    "    d = np.diff(c)/(3*dx)\n",
    "    b = dy/dx - dx*(2*c[:-1] + c[1:])/3\n",
    "    return b, c, d"
   ]
  },
  {
   "cell_type": "code",
   "execution_count": 7,
   "metadata": {},
   "outputs": [
    {
     "name": "stdout",
     "output_type": "stream",
     "text": [
      "[ 0.2703542  -0.18070839  0.15847938 -0.78920913 -0.79964286 -0.75821944\n",
      " -0.35547938 -0.20786303]\n",
      "[ 0.         -0.90212518  1.58050074 -3.47587776  3.45501031 -3.37216348\n",
      "  4.17764359 -3.8824109   0.        ]\n",
      "[-0.60141679  1.65508395 -3.370919    4.62059205 -4.55144919  5.03320471\n",
      " -5.37336966  2.58827393]\n"
     ]
    }
   ],
   "source": [
    "b, c, d = MyCubicSpline(xi, yi)\n",
    "print(b)\n",
    "print(c)\n",
    "print(d)"
   ]
  },
  {
   "cell_type": "code",
   "execution_count": 1,
   "metadata": {},
   "outputs": [],
   "source": [
    "def MySEval(x, xi, yi, b, c, d):\n",
    "    x = np.array(x)\n",
    "    y = np.zeros((len(x)))\n",
    "    m = 0\n",
    "    for i in range(len(xi)-1):\n",
    "        n = np.sum(x<xi[i+1]) - m\n",
    "        xx = x[m:m+n] - xi[i]\n",
    "        y[m:m+n] = yi[i] + b[i]*xx + c[i]*xx*xx+d[i]*xx*xx*xx\n",
    "        m += n\n",
    "    xx = x[m:] - xi[-2]\n",
    "    y[m:] = yi[-2] + b[-1]*xx + c[-2]*xx*xx+d[-1]*xx*xx*xx\n",
    "    return y"
   ]
  },
  {
   "cell_type": "code",
   "execution_count": null,
   "metadata": {},
   "outputs": [],
   "source": []
  }
 ],
 "metadata": {
  "kernelspec": {
   "display_name": "Python 3",
   "language": "python",
   "name": "python3"
  },
  "language_info": {
   "codemirror_mode": {
    "name": "ipython",
    "version": 3
   },
   "file_extension": ".py",
   "mimetype": "text/x-python",
   "name": "python",
   "nbconvert_exporter": "python",
   "pygments_lexer": "ipython3",
   "version": "3.7.6"
  }
 },
 "nbformat": 4,
 "nbformat_minor": 2
}
