{
 "cells": [
  {
   "cell_type": "code",
   "execution_count": 1,
   "metadata": {},
   "outputs": [
    {
     "name": "stdout",
     "output_type": "stream",
     "text": [
      "/home/oikura/Desktop/synchronization/WORK/IT/Yulia/scripts\n",
      "output metadata file is here:/home/oikura/Desktop/synchronization/WORK/IT/Yulia/Li/dist_out metadata_Li_dist_out\n",
      "ฅ(^・ﻌ・^)ฅ - miau, i love you!\n",
      "output metadata file is here:/home/oikura/Desktop/synchronization/WORK/IT/Yulia/Na/dist_out metadata_Na_dist_out\n",
      "ฅ(^・ﻌ・^)ฅ - miau, i love you!\n",
      "output metadata file is here:/home/oikura/Desktop/synchronization/WORK/IT/Yulia/K/dist_out metadata_K_dist_out\n",
      "ฅ(^・ﻌ・^)ฅ - miau, i love you!\n",
      "output metadata file is here:/home/oikura/Desktop/synchronization/WORK/IT/Yulia/Cs/dist_out metadata_Cs_dist_out\n",
      "ฅ(^・ﻌ・^)ฅ - miau, i love you!\n",
      "output metadata file is here:/home/oikura/Desktop/synchronization/WORK/IT/Yulia/Rb/dist_out metadata_Rb_dist_out\n",
      "ฅ(^・ﻌ・^)ฅ - miau, i love you!\n"
     ]
    }
   ],
   "source": [
    "import os, sys\n",
    "# Load the Pandas libraries with alias 'pd' \n",
    "import pandas as pd\n",
    "\n",
    "# working_location = \"/home/oikura/Desktop/Yulia/scripts/\"\n",
    "working_location = os.getcwd()\n",
    "current_working_location = os.chdir(working_location)\n",
    "print (working_location)\n",
    "\n",
    "# какой атом анализируем? изменить это\n",
    "atom_list = [\"Li\", \"Na\", \"K\", \"Cs\", \"Rb\"]\n",
    "\n",
    "for atom in atom_list:\n",
    "    current_working_location = os.chdir(\"../%s/dist_out\" % (atom)) #перемещаемся в папку\n",
    "    current_working_location = os.getcwd()\n",
    "    # print(current_working_location)\n",
    "\n",
    "    # создаем массивы с данными\n",
    "    file_path = []\n",
    "    k = []\n",
    "    loc_win_min = []\n",
    "\n",
    "    # генерируем имя выходного файла по шаблону\n",
    "    name_prefix = os.getcwd()\n",
    "    name_prefix = name_prefix.split(\"/\")\n",
    "    l = len (name_prefix)\n",
    "    name_prefix = name_prefix[l-2] + \"_\" + name_prefix[l-1]\n",
    "    print (\"output metadata file is here:\" + os.getcwd(), \"metadata_\" + name_prefix)\n",
    "\n",
    "    #чистим нычки: если в вашей фазе хода вы вытянули папку с файлом метаданных предыдущей версии, то удаляем ёё.\n",
    "    if os.path.exists(os.getcwd() + \"/metadata_\" + name_prefix):\n",
    "        os.remove(os.getcwd() + \"/metadata_\" + name_prefix)\n",
    "    #чистим нычки: если в вашей фазе хода вы вытянули папку с выходы wham предыдущей версии, то удаляем ёё.\n",
    "    if os.path.exists(os.getcwd() + \"/%s.out\" % (atom)):\n",
    "        os.remove(os.getcwd() + \"/%s.out\" % (atom))\n",
    "\n",
    "\n",
    "    file_list = os.listdir(current_working_location) # list of files in directory\n",
    "\n",
    "    # начинаем бегать по файлам\n",
    "    for file_name in file_list:\n",
    "        file_path.append(current_working_location + \"/\" + file_name) # набиваем массив путями\n",
    "\n",
    "        end = file_name.find('_dist')\n",
    "        start = file_name.find('usk') + 3\n",
    "        s = file_name[start:end] # обрезаем ненужное в имени файла\n",
    "        s = s[:4]\n",
    "#         print (file_name)\n",
    "#         print (s)\n",
    "        k.append(\"{:.2f}\".format(int(s.split(\"d\") [0])*2)) # набиваем массив константами жесткости приложенного потенциала (k)\n",
    "        loc_win_min.append(\"{:.2f}\".format(int(s.split(\"d\") [1])*(0.1))) # набиваем массив положение минимума приложенного квадратичного потенциала (x 0 )\n",
    "\n",
    "    # print (file_path, k, loc_win_min)    \n",
    "\n",
    "    # пишем массивы в датафрейм\n",
    "    data = {\"file_path\": file_path, \n",
    "            \"loc_win_min\":loc_win_min,\n",
    "            \"k\": k\n",
    "           }\n",
    "\n",
    "    df = pd.DataFrame(data)\n",
    "    # print (df.head())\n",
    "\n",
    "    df.to_csv(os.getcwd() + \"/metadata_\" + name_prefix, sep=\"\\t\", header=None, index=False) #запись датафрейма в выходные файлы без хедера с разделителями-табуляцией\n",
    "    print (\"ฅ(^・ﻌ・^)ฅ - miau, i love you!\")\n",
    "    current_working_location = os.chdir(working_location)"
   ]
  },
  {
   "cell_type": "code",
   "execution_count": 30,
   "metadata": {},
   "outputs": [
    {
     "name": "stdout",
     "output_type": "stream",
     "text": [
      "1d34\n"
     ]
    }
   ],
   "source": [
    "file_name = \"cx1wbbCs_usk1d34_dist.csv\"\n",
    "end = file_name.find('_dist')\n",
    "start = file_name.find('usk') + 3\n",
    "\n",
    "\n",
    "file_name = file_name[start:end]\n",
    "k = file_name.split(\"d\") [0]\n",
    "loc_win_min = file_name.split(\"d\") [1]\n",
    "print (\"{0:s}\".format(file_name))\n",
    "# l = len (file_name)-4"
   ]
  },
  {
   "cell_type": "code",
   "execution_count": null,
   "metadata": {},
   "outputs": [],
   "source": []
  }
 ],
 "metadata": {
  "kernelspec": {
   "display_name": "Python 3",
   "language": "python",
   "name": "python3"
  },
  "language_info": {
   "codemirror_mode": {
    "name": "ipython",
    "version": 3
   },
   "file_extension": ".py",
   "mimetype": "text/x-python",
   "name": "python",
   "nbconvert_exporter": "python",
   "pygments_lexer": "ipython3",
   "version": "3.7.6"
  }
 },
 "nbformat": 4,
 "nbformat_minor": 4
}
